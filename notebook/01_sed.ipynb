{
 "cells": [
  {
   "cell_type": "markdown",
   "metadata": {},
   "source": [
    "<style> p { max-width: 500px; } </style>\n",
    "\n",
    "# sed\n",
    "\n",
    "<q>sed - stream editor for filtering and transforming text</q>\n",
    "—manpages\n",
    "\n"
   ]
  },
  {
   "cell_type": "markdown",
   "metadata": {
    "vscode": {
     "languageId": "shellscript"
    }
   },
   "source": [
    "<style> p { max-width: 500px; } </style>\n",
    "\n",
    "Like most of these, `sed` is a fairly well known and supported tool in the UNIX world. However I've mostly just stuck to the basic substitution commands when using it.\n",
    "\n",
    "But there's a whole range of potentially useful commands that it can execute.\n",
    "\n",
    "GNU has HTML documentation here:\n",
    "https://www.gnu.org/software/sed/manual/sed.html"
   ]
  },
  {
   "cell_type": "code",
   "execution_count": 4,
   "metadata": {
    "vscode": {
     "languageId": "shellscript"
    }
   },
   "outputs": [
    {
     "name": "stdout",
     "output_type": "stream",
     "text": [
      "Hello Planet\n",
      "H** now brown cow?\n",
      "H** n** br**n c**?\n",
      "Hello world\n",
      "HELLO world\n"
     ]
    }
   ],
   "source": [
    "# Standard 's' command we all know and love.\n",
    "# Uses a s/word/replacement/ pattern.\n",
    "echo Hello World | sed 's/World/Planet/'\n",
    "\n",
    "\n",
    "# The 'g' flag can be used for multiple replacements.\n",
    "echo How now brown cow? | sed 's/ow/**/'\n",
    "echo How now brown cow? | sed 's/ow/**/g'\n",
    "\n",
    "# GNU sed also supports backslashed commands in the pattern.\n",
    "# \\u for one letter uppercased, \\U for all input until \\E,\n",
    "# \\l and \\L for lowercase.\n",
    "echo hello world | sed 's/hello/\\u\\0/'\n",
    "echo hello world | sed 's/hello/\\U\\0/'\n"
   ]
  },
  {
   "cell_type": "markdown",
   "metadata": {},
   "source": [
    "<style> p { max-width: 500px; } </style>\n",
    "\n",
    "I'm not sure if these extensions to change the capitalization are particuarly useful, but there are a few niche uses.\n",
    "\n",
    "It's worth remembering that `/g` is not set by default. \n"
   ]
  },
  {
   "cell_type": "code",
   "execution_count": null,
   "metadata": {
    "vscode": {
     "languageId": "shellscript"
    }
   },
   "outputs": [
    {
     "name": "stdout",
     "output_type": "stream",
     "text": [
      "cat cat cat dog cat cat cat\n",
      "bobcat bobcat bobcat bobcat bobcat bobcat bobcat\n",
      "bat bat bat bat bat bat bat\n",
      "CAT CAT CAT CAT CAT CAT CAT\n",
      "rabbit rabbit rabbit rabbit rabbit rabbit rabbit\n",
      "data/cat.txt\n",
      "I think that I shall never see\n",
      "A poem lovely as a tree.\n",
      "EXCEPT for this one's sweet refrains;\n",
      "LET'S print them on a tree's remains.\n"
     ]
    }
   ],
   "source": [
    "cd ~/proj/shell\n",
    "\n",
    "# You can also use a number to replace only the nth match.\n",
    "echo cat cat cat cat cat cat cat | sed 's/cat/dog/4'\n",
    "\n",
    "# \\0 holds the pattern that was found.\n",
    "# You can used it to add to the search term rather than removing it.\n",
    "echo cat cat cat cat cat cat cat | sed 's/cat/bob\\0/g'\n",
    "\n",
    "# Text into the first set of '\\(...\\)` brackets in the pattern is \\1\n",
    "# You can have up to nine of these sets.\n",
    "echo cat cat cat cat cat cat cat | sed 's/c\\(at\\)/b\\1/g'\n",
    "\n",
    "# GNU sed has a 'I' or 'i' flag that makes it case insensitive.\n",
    "echo CAT CAT CAT CAT CAT CAT CAT | sed 's/cat/rabbit/g'\n",
    "echo cat cat cat cat cat cat cat | sed 's/cat/rabbit/gi'\n",
    "\n",
    "# The 'e' flag lets you pipe the match though a shell command.\n",
    "echo cat | sed 's/cat/ls data\\/\\0*/e'\n",
    "\n",
    "# A number before the command specifies a line. \n",
    "# x,y means to use lines x to line y (starts from one).\n",
    "# the '-n' option prevents printing by default.\n",
    "# The 'p' flag prints the results.\n",
    "cat data/tree.txt | sed -n '1,4s/^[^ ]*/\\U\\0/p'\n"
   ]
  },
  {
   "cell_type": "markdown",
   "metadata": {},
   "source": [
    "<style> p { max-width: 500px; } </style>\n",
    "\n",
    "There's a lot of situations where you might want to only return matches, so I think the `sed -n 's/pattern/replace/p'` is quite handy.\n",
    "\n",
    "Case sensitivity was another thing I forgot was the default, since I don't use it in Vim where I'm usually entering `s/` patterns.\n"
   ]
  },
  {
   "cell_type": "code",
   "execution_count": null,
   "metadata": {
    "vscode": {
     "languageId": "shellscript"
    }
   },
   "outputs": [
    {
     "name": "stdout",
     "output_type": "stream",
     "text": [
      "Lorem ipsum dolor sit amet, consectetur adipiscing elit. Nam posuere \\\n",
      "congue fringilla. Quisque vehicula tristique efficitur. Aliquam pelle\\\n",
      "ntesque lacus blandit, auctor massa quis, luctus justo. Suspendisse p\\\n",
      "otenti. Nullam pellentesque, justo id bibendum accumsan, odio nibh rh\\\n",
      "oncus augue, eu dictum leo ante eget quam. Donec ultricies, tellus id\\\n",
      " sollicitudin placerat, odio ante dictum eros, id accumsan tortor ero\\\n",
      "s at eros. Nulla rutrum vehicula posuere. Sed finibus risus tortor, e\\\n",
      "t egestas eros consequat a. Proin at mi a est fermentum commodo sit a\\\n",
      "congue fringilla. Quisque vehicula tristique efficitur. Aliquam pelle\\\n",
      "ntesque lacus blandit, auctor massa quis, luctus justo. Suspendisse p\\\n",
      "otenti. Nullam pellentesque, justo id bibendum accumsan, odio nibh rh\\\n",
      "oncus augue, eu dictum leo ante eget quam. Donec ultricies, tellus id\\\n",
      " sollicitudin placerat, odio ante dictum eros, id accumsan tortor ero\\\n",
      "s at eros. Nulla rutrum vehicula posuere. Sed finibus risus tortor, e\\\n",
      "t egestas eros consequat a. Proin at mi a est fermentum commodo sit a\\\n",
      "met eu libero.$\n"
     ]
    }
   ],
   "source": [
    "# sed supports line wrapping! Who knew?\n",
    "\n",
    "# Print the first line wrapped to 70 characters.\n",
    "sed -n --line-length 70 '1l' < 'data/lorem.txt'"
   ]
  },
  {
   "cell_type": "markdown",
   "metadata": {},
   "source": [
    "<style> p { max-width: 500px; } </style>\n",
    "\n",
    "I added this to the '00_get_first_word' sed file:\n",
    "```sed\n",
    "# Hashes are used for comments.\n",
    "\n",
    "# Slash to find lines.\n",
    "# This command just removes empty lines.\n",
    "/^$/d\n",
    "#  You need to use a \"\\(...\\)\" group for the pattern with \".*\" after it.\n",
    "# Otherwise you'll match the whole line.\n",
    "s/\\(^[^ ]*\\).*/\\U\\1/p\n",
    "```\n",
    "\n",
    "There wasn't any syntax highlighting. \n",
    "\n",
    "And there's no extension in the store.\n",
    "\n",
    "So I made my own, using an atom cson file I found here:\n",
    "https://github.com/Alhadis/language-sed\n",
    "\n",
    "I downloaded the 'grammers/sed.cson' file.\n",
    "\n",
    "I ran:\n",
    "```sh\n",
    "sudo npm install -g cson\n",
    "sudo npm install -g @vscode/vsce\n",
    "mkdir sedsyntax\n",
    "cd sedsyntax\n",
    "mv ~/Downloads/sed.cson .\n",
    "mkdir syntaxes\n",
    "cson2json sed.cson > syntaxes/sed.json\n",
    "```\n",
    "\n",
    "Next I added this 'package.json' file from a modified example.\n",
    "\n",
    "To build and install I ran:\n",
    "```sh\n",
    "vsce package\n",
    "code --install-extension sedsyntax/sed-syntax-highlighter-0.0.1.vsix\n",
    "```\n",
    "\n",
    "After reselecting the format of the existing file... and what do you know it works!\n",
    "\n",
    "<small>I was really expecting it to fail for some annoying unfixable reason.</small>\n",
    "\n",
    "Anyway it looks like my sed file works:\n"
   ]
  },
  {
   "cell_type": "code",
   "execution_count": 37,
   "metadata": {
    "vscode": {
     "languageId": "shellscript"
    }
   },
   "outputs": [
    {
     "name": "stdout",
     "output_type": "stream",
     "text": [
      "LOREM\n",
      "CURABITUR\n",
      "PROIN\n",
      "CURABITUR\n",
      "PROIN\n",
      "PRAESENT\n",
      "MAURIS\n"
     ]
    }
   ],
   "source": [
    "cd ~/proj/shell\n",
    "# sed can also run its own script files. \n",
    "# This seems typical of many of these Linux utilities.\n",
    "# They have their own miniture programming language.\n",
    "\n",
    "sed -nf src/00_get_first_word.sed < data/lorem.txt\n",
    "\n"
   ]
  },
  {
   "cell_type": "code",
   "execution_count": 10,
   "metadata": {
    "vscode": {
     "languageId": "shellscript"
    }
   },
   "outputs": [
    {
     "name": "stdout",
     "output_type": "stream",
     "text": [
      "There is a horse in the field.\n",
      "Enter a command.\n",
      "Enter a command.\n",
      "---Status---\n",
      "There is a robohorse in the field.\n",
      "Enter a command.\n",
      "\n",
      "---Status---\n",
      "There is a robohorse in the field.\n",
      "Enter a command:\n"
     ]
    }
   ],
   "source": [
    "cd ~/proj/shell\n",
    "# 'a\\' to append text.\n",
    "echo There is a horse in the field. | sed 'a\\Enter a command.'\n",
    "\n",
    "# 'i\\' to insert.\n",
    "# These commands need a newline after then.\n",
    "echo There is a horse in the field. | \n",
    "    sed 'i\\---Status---\n",
    "    a\\Enter a command.\n",
    "    s/horse/robo\\0/'\n",
    "\n",
    "echo\n",
    "\n",
    "echo There is a horse in the field. | sed -nf src/01_robocom.sed\n",
    "\n"
   ]
  },
  {
   "cell_type": "code",
   "execution_count": 13,
   "metadata": {
    "vscode": {
     "languageId": "shellscript"
    }
   },
   "outputs": [
    {
     "name": "stdout",
     "output_type": "stream",
     "text": [
      "__pycache__\n",
      "data\n",
      "dist\n",
      "get-pip.py\n",
      "lib\n",
      "LICENCE\n",
      "notebook\n",
      "data\n",
      "dist\n",
      "get-pip.py\n",
      "lib\n",
      "LICENCE\n",
      "notebook\n",
      "pyproject.toml\n",
      "README.md\n",
      "requirements.txt\n",
      "sed-syntax-highlighter-0.0.1.vsix\n",
      "sedsyntax\n",
      "src\n",
      "tests\n",
      "Mon 27 Jan 2025 17:57:36 ACDT\n",
      "asdf\n"
     ]
    }
   ],
   "source": [
    "cd ~/proj/shell\n",
    "\n",
    "# 'e' to execute a command from the current line.\n",
    "# 'e command' to run a specific command.\n",
    "# 'c\\' to change the line.\n",
    "echo ls | sed 's/ls/lsd/; e'\n",
    "\n",
    "echo asdf | sed 'e date'"
   ]
  },
  {
   "cell_type": "markdown",
   "metadata": {},
   "source": [
    "<style> p { max-width: 500px; } </style>\n",
    "\n",
    "Huh, interesting. \n",
    "\n",
    "So I can actually execute arbitrary commands with sed .\n",
    "\n",
    "This seems useful (and dangerous).\n",
    "\n",
    "Perhaps it might be good for a log formatter?\n",
    "\n",
    "I created the '02_logger.sed' file.\n",
    "\n"
   ]
  },
  {
   "cell_type": "code",
   "execution_count": 15,
   "metadata": {
    "vscode": {
     "languageId": "shellscript"
    }
   },
   "outputs": [
    {
     "name": "stdout",
     "output_type": "stream",
     "text": [
      "Mon 27 Jan 2025 18:12:33 ACDT\n",
      "Text\n",
      "Text\n"
     ]
    }
   ],
   "source": [
    "cd ~/proj/shell\n",
    "\n",
    "echo Text | sed -nf src/02_logger.sed\n",
    "# Nope sed always appends a newline.\n"
   ]
  }
 ],
 "metadata": {
  "kernelspec": {
   "display_name": "Bash",
   "language": "bash",
   "name": "bash"
  },
  "language_info": {
   "codemirror_mode": "shell",
   "file_extension": ".sh",
   "mimetype": "text/x-sh",
   "name": "bash"
  }
 },
 "nbformat": 4,
 "nbformat_minor": 2
}
