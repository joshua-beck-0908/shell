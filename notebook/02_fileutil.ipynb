{
 "cells": [
  {
   "cell_type": "markdown",
   "metadata": {},
   "source": [
    "<style> p { max-width: 500px; } </style>\n",
    "\n",
    "# Utilities\n",
    "\n",
    "## [cut](https://linux.die.net/man/1/cut)\n",
    "\n",
    "This allows you to select parts of a file to print.\n",
    "\n",
    "Seems like it might be useful for a CSV or space formatted file.\n"
   ]
  },
  {
   "cell_type": "code",
   "execution_count": 17,
   "metadata": {
    "vscode": {
     "languageId": "shellscript"
    }
   },
   "outputs": [
    {
     "name": "stdout",
     "output_type": "stream",
     "text": [
      "data\n",
      "dist\n",
      "get-pip\n",
      "lib\n",
      "LICENCE\n",
      "notebook\n",
      "__pycache__\n",
      "pyproject\n",
      "Lorem ipsum dolor sit amet, consectetur \n",
      "Curabitur maximus arcu magna, in fringil\n",
      "Proin luctus est odio, id sollicitudin i\n",
      "Praesent et gravida lacus. Nulla a ultri\n",
      "Mauris eu felis non dui semper pulvinar \n",
      "\n",
      " adipiscing elit. Nam posuere congue frincula tristique effici\n",
      "lla lectus viverra id. Cras nec tempor erauris id efficitur ma\n",
      "ipsum rutrum sed. Cras facilisis tinciduna diam efficitur et. \n",
      "ices elit, et elementum urna. Sed ornare lestie, vel eleifend \n",
      " sit amet nec neque. Phasellus lacinia, jhoncus, magna eros co\n"
     ]
    }
   ],
   "source": [
    "cd ~/proj/shell\n",
    "# Remove extensions.\n",
    "# -f1 is field 1, -d. is dot deliminated\n",
    "ls | head -n 8 | cut -f1 -d.\n",
    "\n",
    "# Truncate to 40 characters.\n",
    "cut -c-40 data/lorem.txt | sed '/^$/d'\n",
    "echo\n",
    "\n",
    "# Print character 40-80 and 100-120\n",
    "cut -c40-80,100-120 data/lorem.txt | sed '/^$/d'"
   ]
  },
  {
   "cell_type": "markdown",
   "metadata": {},
   "source": [
    "<style> p { max-width: 500px; } </style>\n",
    "\n",
    "So it has a few interesting tricks, but it's not really for doing linewise work.\n",
    "\n",
    "I had to remove the blank lines with sed.\n"
   ]
  },
  {
   "cell_type": "markdown",
   "metadata": {},
   "source": [
    "<style> p { max-width: 500px; } </style>\n",
    "\n",
    "## [paste](https://linux.die.net/man/1/paste)\n",
    "\n",
    "Those one combines multiple files in the same line, separated by a delimiter.\n",
    "\n",
    "I collected some data for names in \"data/firstname_raw.txt\".\n",
    "\n",
    "Then it was transformed with:"
   ]
  },
  {
   "cell_type": "code",
   "execution_count": 1,
   "metadata": {
    "vscode": {
     "languageId": "shellscript"
    }
   },
   "outputs": [],
   "source": [
    "cd ~/proj/shell\n",
    "cat data/firstname_raw.txt | cut -f1 | \n",
    "    sed '/^[A-Z]/d;s/^[ ]*//;/^$/d;s/\\(.\\)\\(.*\\)/\\1\\L\\2/' > data/firstname.txt\n"
   ]
  },
  {
   "cell_type": "markdown",
   "metadata": {},
   "source": [
    "<style> p,ul { max-width: 500px; } </style>\n",
    "\n",
    "This knowledge of `cut` and `sed` is already paying off.\n",
    " * The raw data is tab separated (cut's default delimiter).\n",
    " * The first field is the name.\n",
    " * The sed command then:\n",
    "    - Removes unindented lines (headings).\n",
    "    - Removes the space indent from remaining lines.\n",
    "    - Removes empty lines (table gaps).\n",
    "    - Converts everything after the first character to lowercase.\n",
    "    \n",
    "Next I copies a table of common surnames from Wikipedia and put them into the \"data/surname_raw.txt\".\n",
    "\n",
    "I transformed them with:"
   ]
  },
  {
   "cell_type": "code",
   "execution_count": 29,
   "metadata": {
    "vscode": {
     "languageId": "shellscript"
    }
   },
   "outputs": [],
   "source": [
    "cd ~/proj/shell\n",
    "\n",
    "cat data/surname_raw.txt | cut -f2 | sed 's/ //g' > data/surname.txt\n",
    "\n"
   ]
  },
  {
   "cell_type": "markdown",
   "metadata": {},
   "source": [
    "I then used paste to combine them:"
   ]
  },
  {
   "cell_type": "code",
   "execution_count": 34,
   "metadata": {
    "vscode": {
     "languageId": "shellscript"
    }
   },
   "outputs": [
    {
     "name": "stdout",
     "output_type": "stream",
     "text": [
      "Joshua Smith\n",
      "Lachlan Jones\n",
      "Ethan Williams\n",
      "Thomas Brown\n",
      "James Wilson\n"
     ]
    }
   ],
   "source": [
    "# -d for delimiter, default is tab.\n",
    "paste -d' ' data/firstname.txt data/surname.txt | head -n 5"
   ]
  },
  {
   "cell_type": "markdown",
   "metadata": {
    "vscode": {
     "languageId": "shellscript"
    }
   },
   "source": [
    "<style> p { max-width: 500px; } </style>\n",
    "\n",
    "Looks good, but the number of first and last names don't match.\n"
   ]
  },
  {
   "cell_type": "markdown",
   "metadata": {},
   "source": [
    "## [sort](https://linux.die.net/man/1/sort)\n",
    "\n",
    "This does what you'd expect. Sorts lines in an order specified by flags.\n",
    "\n",
    "There are plenty of options.\n",
    " * `-d` dictionary (A-Z).\n",
    " * `-n` numeric\n",
    " * `-h` human numeric (1K, 5M). Numeric with units.\n",
    " * `-R` random\n",
    " * `-M` month sort (JAN, then FEB, etc)\n",
    " * `-u` unique items only.\n",
    " * `-r` reverse"
   ]
  },
  {
   "cell_type": "code",
   "execution_count": 1,
   "metadata": {
    "vscode": {
     "languageId": "shellscript"
    }
   },
   "outputs": [
    {
     "name": "stdout",
     "output_type": "stream",
     "text": [
      "Amelia\n",
      "Benjamin\n",
      "Caitlin\n",
      "Charlotte\n",
      "Wilson\n",
      "Williams\n",
      "White\n",
      "Walker\n",
      "4.0K\t./dist\n",
      "4.0K\t./lib\n",
      "4.0K\t./__pycache__\n",
      "4.0K\t./.venv/include/python3.11\n",
      "4.0K\t./.venv/lib64\n",
      "103M\t.\n",
      "101M\t./.venv/lib\n",
      "101M\t./.venv\n",
      "52M\t./.venv/lib/python3.12/site-packages\n",
      "52M\t./.venv/lib/python3.12\n",
      "\n"
     ]
    }
   ],
   "source": [
    "cd ~/proj/shell\n",
    "\n",
    "# Forwards dictionary order.\n",
    "sort data/firstname.txt | head -n 4\n",
    "\n",
    "# Backwards\n",
    "sort -d -r data/surname.txt | head -n 4\n",
    "\n",
    "# Smallest files\n",
    "du -h | sort -h | head -n 5\n",
    "\n",
    "# Largest files\n",
    "du -h | sort -hr | head -n 5\n",
    "\n",
    "echo\n",
    "\n",
    "\n"
   ]
  },
  {
   "cell_type": "code",
   "execution_count": null,
   "metadata": {
    "vscode": {
     "languageId": "shellscript"
    }
   },
   "outputs": [
    {
     "name": "stdout",
     "output_type": "stream",
     "text": [
      "Lucy Johnson\n"
     ]
    }
   ],
   "source": [
    "cd ~/proj/shell\n",
    "# Random name\n",
    "export first=$(sort -R data/firstname.txt | head -n 1)\n",
    "export last=$(sort -R data/surname.txt | head -n 1)\n",
    "echo $first $last"
   ]
  },
  {
   "cell_type": "markdown",
   "metadata": {},
   "source": [
    "<style> p { max-width: 500px; } </style>\n",
    "\n",
    "## [uniq](https://linux.die.net/man/1/uniq)\n",
    "\n",
    "This finds duplicated lines in a file. \n",
    "\n",
    "I've already familiar with this one, I'll explore the other options."
   ]
  },
  {
   "cell_type": "code",
   "execution_count": 17,
   "metadata": {
    "vscode": {
     "languageId": "shellscript"
    }
   },
   "outputs": [
    {
     "name": "stdout",
     "output_type": "stream",
     "text": [
      "     14 English\n",
      "      8 Irish\n",
      "      7 Scottish\n",
      "      3 Welsh\n",
      "      1 Vietnamese\n",
      "      1 Punjabi\n",
      "      1 Korean\n",
      "      1 Indian\n",
      "      1 French\n",
      "      1 Chinese\n"
     ]
    }
   ],
   "source": [
    "cd ~/proj/shell\n",
    "\n",
    "# Find the nationalities list of nationalities in the surnames.\n",
    "# Only repeated lines next to each other count to they have to be sorted.\n",
    "# The '-c' option is interesting because is counts the number of items that were duplicated.\n",
    "cat data/surname_raw.txt |  # Open the raw data.\n",
    "cut -f4 |                   # Take the fourth field (ethnicity of name)\n",
    "sed 's/ //g' |              # Removed the extra spaces in the list.\n",
    "sed 's/,/\\n/g' |            # If there are multiple origins it's comma separated\n",
    "sort |                      # Must be sorted for uniq to do it's magic.\n",
    "uniq -c |                   # Count the number of names with each ethnicity.\n",
    "sort -nr                    # Now sort from most to least.\n",
    "\n",
    "# Unsurprisingly for Australia, most of these are from parts of the UK.\n"
   ]
  },
  {
   "cell_type": "markdown",
   "metadata": {},
   "source": [
    "<style> p { max-width: 500px; } </style>\n",
    "Hmm, I like that. I put it in the source file \"03_name_origins\"."
   ]
  },
  {
   "cell_type": "markdown",
   "metadata": {},
   "source": [
    "<style> p { max-width: 500px; } </style>\n",
    "\n",
    "## [seq](https://linux.die.net/man/1/seq)\n",
    "\n",
    "I'm aware this is a command to help shell loops.\n",
    "\n",
    "It prints a sequence between two numbers.\n",
    "\n",
    "```sh\n",
    "seq [OPTION]... LAST\n",
    "seq [OPTION]... FIRST LAST\n",
    "seq [OPTION]... FIRST INCREMENT LAST\n",
    "```\n",
    "\n",
    "Apparently you can also do an increment.\n",
    "\n"
   ]
  },
  {
   "cell_type": "code",
   "execution_count": 63,
   "metadata": {
    "vscode": {
     "languageId": "shellscript"
    }
   },
   "outputs": [
    {
     "name": "stdout",
     "output_type": "stream",
     "text": [
      "1\n",
      "2\n",
      "3\n",
      "-1\t0\t1\t2\n",
      "5,4,3,2,1\n",
      "1.0,1.5,2.0,2.5,3.0\n",
      "0.1,0.2,0.3,0.4,0.5,0.6,0.7,0.8,0.9,1.0\n",
      "02,04,06,08,10,12,14,16,18,20\n"
     ]
    }
   ],
   "source": [
    "# 1,2,3\n",
    "seq 1 3\n",
    "\n",
    "# Apparently you don't need sed to merge lines. `paste -s` can do that.\n",
    "# Negatives also work.\n",
    "seq -1 2 | paste -s\n",
    "\n",
    "# This doesn't work.\n",
    "#seq 5 1 | paste -s -d \",\" -\n",
    "\n",
    "# This does\n",
    "seq 5 -1 1 | paste -sd,\n",
    "\n",
    "# Decimal numbers can be used.\n",
    "seq 1 0.5 3 | paste -sd,\n",
    "\n",
    "# Doesn't this introduce floating point bugs?\n",
    "seq 0.1 0.1 1 | paste -sd,\n",
    "# Surprsingly not, likely due to the limited precision output.\n",
    "\n",
    "# Oops, you can just do '-s,' to keep it in one line.\n",
    "# '-w' pads it... with zeros?\n",
    "seq -s, -w 2 2 20\n"
   ]
  },
  {
   "cell_type": "markdown",
   "metadata": {},
   "source": [
    "<style> p { max-width: 500px; } </style>\n",
    "\n",
    "Much more flexible that I thought!\n",
    "\n",
    "I'll have to find a practical use for that later."
   ]
  },
  {
   "cell_type": "markdown",
   "metadata": {},
   "source": [
    "<style> p { max-width: 500px; } </style>\n",
    "\n",
    "# [tr](https://linux.die.net/man/1/tr)\n",
    "\n",
    "Converts characters from one set to another or deletes them.\n",
    "\n",
    "I've used it only occassionally.\n",
    "\n",
    "It definitely sounds useful.\n",
    "\n",
    "\n"
   ]
  },
  {
   "cell_type": "code",
   "execution_count": 72,
   "metadata": {
    "vscode": {
     "languageId": "shellscript"
    }
   },
   "outputs": [
    {
     "name": "stdout",
     "output_type": "stream",
     "text": [
      "asdf\n",
      "Exampl txt\n",
      "HELLO WORLD.\n",
      "spacesspaces\n",
      "0x1AB3\n",
      "asdf\n",
      "asdf_________\n"
     ]
    }
   ],
   "source": [
    "# Make the 'A' lowercase.\n",
    "echo Asdf | tr 'A' 'a'\n",
    "\n",
    "# Delete the letter 'e'.\n",
    "echo Example text | tr -d 'e'\n",
    "\n",
    "# Capitalize\n",
    "# There's a low of these [:sets:] of characters.\n",
    "echo Hello world. | tr '[:lower:]' '[:upper:]'\n",
    "\n",
    "# Strip spaces\n",
    "echo \" spaces s p a c e s   \" | tr -d \" \"\n",
    "\n",
    "# Fix hex case.\n",
    "# This uses a custom range.\n",
    "echo 0X1ab3 | tr 'Xa-f' 'xA-F'\n",
    "\n",
    "# Delete everything *not* in the set.\n",
    "echo 'asdf#$*()@#$' | tr -dc '[:alnum:]'\n",
    "\n",
    "# Replace everything not in the set with an underscore.\n",
    "echo 'asdf#$*()@#$' | tr -c '[:alpha:]' '[_*]'\n",
    "\n"
   ]
  },
  {
   "cell_type": "markdown",
   "metadata": {},
   "source": [
    "<style> p { max-width: 500px; } </style>\n",
    "\n",
    "# [wc](https://linux.die.net/man/1/wc)\n",
    "\n",
    "Counts lines, words, bytes, or characters.\n",
    "\n"
   ]
  },
  {
   "cell_type": "code",
   "execution_count": null,
   "metadata": {
    "vscode": {
     "languageId": "shellscript"
    }
   },
   "outputs": [
    {
     "name": "stdout",
     "output_type": "stream",
     "text": [
      "39 data/firstname.txt\n",
      "Surnames:\n",
      "20\n",
      "   8  411 2777 data/lorem.txt\n"
     ]
    }
   ],
   "source": [
    "cd ~/proj/shell\n",
    "\n",
    "# First names, should just be a matter of lines.\n",
    "wc -l data/firstname.txt \n",
    "\n",
    "# Probably want just the number for most things.\n",
    "echo -n Surnames: \n",
    "cat data/surname.txt | wc -l | cut -f1\n",
    "\n",
    "wc -lmw data/lorem.txt\n"
   ]
  },
  {
   "cell_type": "markdown",
   "metadata": {},
   "source": [
    "<style> p { max-width: 500px; } </style>\n",
    "\n",
    "## [xargs](https://linux.die.net/man/1/xargs)\n",
    "\n",
    "It seems to just convert the piped into to parameters. \n"
   ]
  },
  {
   "cell_type": "code",
   "execution_count": null,
   "metadata": {
    "vscode": {
     "languageId": "shellscript"
    }
   },
   "outputs": [
    {
     "name": "stdout",
     "output_type": "stream",
     "text": [
      "00_start.ipynb\t01_sed.ipynb  02_fileutil.ipynb\n",
      "Lorem ipsum dolor sit amet, consectetur \n",
      "Curabitur maximus arcu magna, in fringil\n",
      "Proin luctus est odio, id sollicitudin i\n",
      "Praesent et gravida lacus. Nulla a ultri\n",
      "Mauris eu felis non dui semper pulvinar \n"
     ]
    }
   ],
   "source": [
    "cd ~/proj/shell\n",
    "\n",
    "# List notebooks\n",
    "echo notebook | xargs ls\n",
    "\n",
    "# Print odd lines with sed\n",
    "seq -s, 1 2 9 | \n",
    "sed 's/,/p\\;/g;s/$/\\p/' |\n",
    "xargs -I PAT sed -n PAT data/lorem.txt |\n",
    "cut -c-40\n"
   ]
  },
  {
   "cell_type": "markdown",
   "metadata": {
    "vscode": {
     "languageId": "shellscript"
    }
   },
   "source": [
    "<style> p { max-width: 500px; } </style>\n",
    "\n",
    "## [fold](https://linux.die.net/man/1/fold)\n",
    "\n",
    "Splits lines after fixed length.\n",
    "\n",
    "Should be able to do what I've been doing with cut, except it can break at spaces.\n"
   ]
  },
  {
   "cell_type": "code",
   "execution_count": 1,
   "metadata": {
    "vscode": {
     "languageId": "shellscript"
    }
   },
   "outputs": [
    {
     "name": "stdout",
     "output_type": "stream",
     "text": [
      "Lorem ipsum dolor sit amet, consectetur \n",
      "adipiscing elit. Nam posuere congue frin\n",
      "gilla. Quisque vehicula tristique effici\n",
      "tur. Aliquam pellentesque lacus blandit,\n",
      "\n",
      "Lorem ipsum dolor sit amet, consectetur \n",
      "adipiscing elit. Nam posuere congue \n",
      "fringilla. Quisque vehicula tristique \n",
      "efficitur. Aliquam pellentesque lacus \n"
     ]
    }
   ],
   "source": [
    "cd ~/proj/shell\n",
    "\n",
    "# Move to next line after 40 characters.\n",
    "cat data/lorem.txt | head -n 1 | fold -w 40 | head -n 4\n",
    "\n",
    "echo\n",
    "\n",
    "# Same, but only break at word boundries.\n",
    "cat data/lorem.txt | head -n 1 | fold -s -w 40 | head -n 4\n"
   ]
  },
  {
   "cell_type": "markdown",
   "metadata": {},
   "source": [
    "<style> p { max-width: 500px; } </style>\n",
    "\n",
    "Unfortunately the GNU version on Linux comes \"broken\". \n",
    "\n",
    "They just never implements the \"-c\" option for characters, so it only does bytes.\n",
    "\n",
    "This means it's going to create a huge mess the moment it encounters a non-ascii character, which makes it pretty much useless.\n",
    "\n",
    "So doing some reading, <em>neither do `fmt` or even `par`!</em>\n",
    "\n",
    "Yikes. 😑\n",
    "\n",
    "I've been spoilt by the great unicode support of modern languages, but when I look at shell utilities it's a dumpster fire.\n",
    "\n",
    "So let's see:\n",
    " * fold - no unicode support on Linux.\n",
    " * fmt - should in theory support it, but it doesn't.\n",
    " * cut - goes by bytes only, even in character mode.\n",
    " * par - was not unicode-aware, and split characters making the input text unreadable.\n",
    "\n",
    "\n",
    "Maybe I should just filter it though `awk`... or `python`.\n",
    "\n",
    "So in the end I gave up and wrote a dozen or so lines of Python.\n",
    "\n",
    "That's all it took to:\n",
    " * Handle commandline arguments with optional width and help.\n",
    " * Pipe input in and out.\n",
    " * Wrap text with a unicode compliant standard library.\n",
    " \n",
    "Did I mention that I can just copy-paste it to any modern system and expect it to work?\n",
    "\n",
    "Anyway... I'm adding it as 'parwrap' in the portable binaries.\n"
   ]
  },
  {
   "cell_type": "markdown",
   "metadata": {},
   "source": [
    "<style> p { max-width: 500px; } </style>\n",
    "\n",
    "## [printf](https://linux.die.net/man/1/printf)\n",
    "\n",
    "![Printer](data/printer.png)\n",
    "\n",
    "Yep, it exists as a shell command as well.\n",
    "\n",
    "The man page says it should take all the same arguments as C printf.\n",
    "\n",
    "Though there are some extra formatting codes added.\n",
    "\n",
    "And there's the '%q' qualifiers that prints in a shell-friendly format.\n",
    "\n"
   ]
  },
  {
   "cell_type": "code",
   "execution_count": null,
   "metadata": {
    "vscode": {
     "languageId": "shellscript"
    }
   },
   "outputs": [
    {
     "name": "stdout",
     "output_type": "stream",
     "text": [
      "Hello World\n",
      "\"It's cold\" said Tom\n",
      "502\tdata/bronze.txt\t81b4\n",
      "0\tdata/cat.txt\t81b4\n",
      "572\tdata/firstname_raw.txt\t81b4\n",
      "265\tdata/firstname.txt\t81b4\n",
      "2777\tdata/lorem.txt\t81b4\n",
      "695\tdata/surname_raw.txt\t81b4\n",
      "136\tdata/surname.txt\t81b4\n",
      "173\tdata/tree.txt\t81b4\n"
     ]
    }
   ],
   "source": [
    "cd ~/proj/shell\n",
    "\n",
    "printf '%s' \"Hello World\"\n",
    "\n",
    "# Escaping single quote is still a pain the arse.\n",
    "printf '%s' '\"It'\"'\"'s cold\" said Tom'\n",
    "\n",
    "for file in data/*.txt; do\n",
    "    printf \"%s\\tMo%\\n\" \"$(du -hb $file)\" \"$(stat -t $file | cut -d' ' -f4)\"\n",
    "done\n",
    "\n"
   ]
  },
  {
   "cell_type": "markdown",
   "metadata": {},
   "source": [
    "## TODO\n",
    "\n",
    "### Utils\n",
    " - nl\n",
    " - shuf\n",
    " - tree\n",
    " - column\n",
    " - file\n",
    " - expr\n",
    " - look\n",
    " - yes\n",
    " - factor\n",
    " - tac\n",
    " - rev\n",
    "\n",
    "### Seperate Chapters\n",
    " - bc\n",
    " - awk\n",
    " - jq\n",
    "\n",
    "### Maybe? ###\n",
    " - expr\n",
    " - m4\n",
    " - ed\n",
    " - (scripting with vim -c)\n",
    " - tclsh/wish\n",
    " "
   ]
  }
 ],
 "metadata": {
  "kernelspec": {
   "display_name": "Bash",
   "language": "bash",
   "name": "bash"
  },
  "language_info": {
   "codemirror_mode": "shell",
   "file_extension": ".sh",
   "mimetype": "text/x-sh",
   "name": "bash"
  }
 },
 "nbformat": 4,
 "nbformat_minor": 2
}
